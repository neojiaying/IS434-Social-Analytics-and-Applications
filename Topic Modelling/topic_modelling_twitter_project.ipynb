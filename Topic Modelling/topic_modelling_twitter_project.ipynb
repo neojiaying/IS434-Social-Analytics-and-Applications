{
 "cells": [
  {
   "cell_type": "markdown",
   "metadata": {},
   "source": [
    "Topic modelling for twitter project\n"
   ]
  },
  {
   "cell_type": "code",
   "execution_count": 3,
   "metadata": {},
   "outputs": [],
   "source": [
    "import nltk\n",
    "import re\n",
    "import numpy as np\n",
    "import pandas as pd\n",
    "from pprint import pprint\n",
    "import gensim\n",
    "import gensim.corpora as corpora\n",
    "from gensim.utils import simple_preprocess\n",
    "from gensim.models import CoherenceModel\n",
    "import spacy\n",
    "import pyLDAvis\n",
    "import pyLDAvis.gensim  # don't skip this\n",
    "import matplotlib.pyplot as plt\n",
    "%matplotlib inline"
   ]
  },
  {
   "cell_type": "code",
   "execution_count": 4,
   "metadata": {},
   "outputs": [
    {
     "name": "stdout",
     "output_type": "stream",
     "text": [
      "[nltk_data] Downloading package stopwords to\n",
      "[nltk_data]     C:\\Users\\Darren\\AppData\\Roaming\\nltk_data...\n",
      "[nltk_data]   Package stopwords is already up-to-date!\n"
     ]
    }
   ],
   "source": [
    "# NLTK Stop words\n",
    "from nltk.corpus import stopwords\n",
    "nltk.download('stopwords')\n",
    "stop_words = stopwords.words('english')\n",
    "stop_words.extend(['from', 'subject', 're', 'edu', 'use'])"
   ]
  },
  {
   "cell_type": "code",
   "execution_count": 5,
   "metadata": {},
   "outputs": [
    {
     "name": "stdout",
     "output_type": "stream",
     "text": [
      "Index(['date', 'text'], dtype='object')\n"
     ]
    },
    {
     "data": {
      "text/html": [
       "<div>\n",
       "<style scoped>\n",
       "    .dataframe tbody tr th:only-of-type {\n",
       "        vertical-align: middle;\n",
       "    }\n",
       "\n",
       "    .dataframe tbody tr th {\n",
       "        vertical-align: top;\n",
       "    }\n",
       "\n",
       "    .dataframe thead th {\n",
       "        text-align: right;\n",
       "    }\n",
       "</style>\n",
       "<table border=\"1\" class=\"dataframe\">\n",
       "  <thead>\n",
       "    <tr style=\"text-align: right;\">\n",
       "      <th></th>\n",
       "      <th>date</th>\n",
       "      <th>text</th>\n",
       "    </tr>\n",
       "  </thead>\n",
       "  <tbody>\n",
       "    <tr>\n",
       "      <th>1274</th>\n",
       "      <td>16/3/2020 13:25</td>\n",
       "      <td>b'Waited 7 months to go home to Singapore and ...</td>\n",
       "    </tr>\n",
       "    <tr>\n",
       "      <th>1275</th>\n",
       "      <td>16/3/2020 12:45</td>\n",
       "      <td>b\"I will support Cravity the same way as I sup...</td>\n",
       "    </tr>\n",
       "    <tr>\n",
       "      <th>1276</th>\n",
       "      <td>16/3/2020 11:01</td>\n",
       "      <td>b'The United Nations Convention on Internation...</td>\n",
       "    </tr>\n",
       "    <tr>\n",
       "      <th>1277</th>\n",
       "      <td>16/3/2020 10:01</td>\n",
       "      <td>b'RT @stompsingapore: \"His body was strung up ...</td>\n",
       "    </tr>\n",
       "    <tr>\n",
       "      <th>1278</th>\n",
       "      <td>16/3/2020 8:43</td>\n",
       "      <td>b'\"His body was strung up on a pipe for all re...</td>\n",
       "    </tr>\n",
       "  </tbody>\n",
       "</table>\n",
       "</div>"
      ],
      "text/plain": [
       "                 date                                               text\n",
       "1274  16/3/2020 13:25  b'Waited 7 months to go home to Singapore and ...\n",
       "1275  16/3/2020 12:45  b\"I will support Cravity the same way as I sup...\n",
       "1276  16/3/2020 11:01  b'The United Nations Convention on Internation...\n",
       "1277  16/3/2020 10:01  b'RT @stompsingapore: \"His body was strung up ...\n",
       "1278   16/3/2020 8:43  b'\"His body was strung up on a pipe for all re..."
      ]
     },
     "execution_count": 5,
     "metadata": {},
     "output_type": "execute_result"
    }
   ],
   "source": [
    "# Import Dataset twitter\n",
    "df = pd.read_csv(\"spcatwitter.csv\")\n",
    "print(df.columns.unique())\n",
    "df.tail()\n",
    "#number of group 10"
   ]
  },
  {
   "cell_type": "code",
   "execution_count": 7,
   "metadata": {},
   "outputs": [
    {
     "name": "stderr",
     "output_type": "stream",
     "text": [
      "<input>:5: DeprecationWarning: invalid escape sequence \\S\n",
      "<input>:8: DeprecationWarning: invalid escape sequence \\s\n",
      "<input>:13: DeprecationWarning: invalid escape sequence \\w\n",
      "<input>:5: DeprecationWarning: invalid escape sequence \\S\n",
      "<input>:8: DeprecationWarning: invalid escape sequence \\s\n",
      "<input>:13: DeprecationWarning: invalid escape sequence \\w\n",
      "<input>:5: DeprecationWarning: invalid escape sequence \\S\n",
      "<input>:8: DeprecationWarning: invalid escape sequence \\s\n",
      "<input>:13: DeprecationWarning: invalid escape sequence \\w\n",
      "<ipython-input-7-b0cf51d4527e>:5: DeprecationWarning: invalid escape sequence \\S\n",
      "  data = [re.sub('\\S*@\\S*\\s?', '', sent) for sent in data]\n",
      "<ipython-input-7-b0cf51d4527e>:8: DeprecationWarning: invalid escape sequence \\s\n",
      "  data = [re.sub('\\s+', ' ', sent) for sent in data]\n",
      "<ipython-input-7-b0cf51d4527e>:13: DeprecationWarning: invalid escape sequence \\w\n",
      "  data = [re.sub(\"https?://(?:[-\\w.]|(?:%[\\da-fA-F]{2}))+\", ' ', sent) for sent in data]\n"
     ]
    }
   ],
   "source": [
    "# Convert to list\n",
    "data = df.text.values.tolist()\n",
    "\n",
    "# Remove Emails\n",
    "data = [re.sub('\\S*@\\S*\\s?', '', sent) for sent in data]\n",
    "\n",
    "# Remove new line characters\n",
    "data = [re.sub('\\s+', ' ', sent) for sent in data]\n",
    "\n",
    "#remove for twitter\n",
    "data = [re.sub(\"b\", ' ', sent) for sent in data]\n",
    "data = [re.sub(\"via\", ' ', sent) for sent in data]\n",
    "data = [re.sub(\"https?://(?:[-\\w.]|(?:%[\\da-fA-F]{2}))+\", ' ', sent) for sent in data]\n",
    "data = [re.sub(\"/.*\", ' ', sent) for sent in data]\n",
    "\n",
    "# Remove distracting single quotes\n",
    "data = [re.sub(\"\\'\", \"\", sent) for sent in data]"
   ]
  },
  {
   "cell_type": "code",
   "execution_count": 8,
   "metadata": {},
   "outputs": [],
   "source": [
    "def sent_to_words(sentences):\n",
    "    for sentence in sentences:\n",
    "        yield(gensim.utils.simple_preprocess(str(sentence), deacc=True))  # deacc=True removes punctuations\n",
    "\n",
    "data_words = list(sent_to_words(data))"
   ]
  },
  {
   "cell_type": "code",
   "execution_count": 9,
   "metadata": {},
   "outputs": [],
   "source": [
    "# Build the bigram and trigram models\n",
    "bigram = gensim.models.Phrases(data_words, min_count=5, threshold=100) # higher threshold fewer phrases.\n",
    "trigram = gensim.models.Phrases(bigram[data_words], threshold=100)  \n",
    "\n",
    "# Faster way to get a sentence clubbed as a trigram/bigram\n",
    "bigram_mod = gensim.models.phrases.Phraser(bigram)\n",
    "trigram_mod = gensim.models.phrases.Phraser(trigram)"
   ]
  },
  {
   "cell_type": "code",
   "execution_count": 10,
   "metadata": {},
   "outputs": [],
   "source": [
    "# Define functions for stopwords, bigrams, trigrams and lemmatization\n",
    "def remove_stopwords(texts):\n",
    "    return [[word for word in simple_preprocess(str(doc)) if word not in stop_words] for doc in texts]\n",
    "\n",
    "def make_bigrams(texts):\n",
    "    return [bigram_mod[doc] for doc in texts]\n",
    "\n",
    "def make_trigrams(texts):\n",
    "    return [trigram_mod[bigram_mod[doc]] for doc in texts]\n",
    "\n",
    "def lemmatization(texts, allowed_postags=['NOUN', 'ADJ', 'VERB', 'ADV']):\n",
    "    \"\"\"https://spacy.io/api/annotation\"\"\"\n",
    "    texts_out = []\n",
    "    for sent in texts:\n",
    "        doc = nlp(\" \".join(sent)) \n",
    "        texts_out.append([token.lemma_ for token in doc if token.pos_ in allowed_postags])\n",
    "    return texts_out"
   ]
  },
  {
   "cell_type": "code",
   "execution_count": 11,
   "metadata": {},
   "outputs": [],
   "source": [
    "import en_core_web_sm\n",
    "\n",
    "\n",
    "# Remove Stop Words\n",
    "data_words_nostops = remove_stopwords(data_words)\n",
    "\n",
    "# Form Bigrams\n",
    "data_words_bigrams = make_bigrams(data_words_nostops)\n",
    "\n",
    "# Initialize spacy 'en' model, keeping only tagger component (for efficiency)\n",
    "# python3 -m spacy download en\n",
    "nlp = en_core_web_sm.load(disable=['parser', 'ner'])\n",
    "\n",
    "# Do lemmatization keeping only noun, adj, vb, adv\n",
    "data_lemmatized = lemmatization(data_words_bigrams, allowed_postags=['NOUN', 'ADJ', 'VERB', 'ADV'])"
   ]
  },
  {
   "cell_type": "code",
   "execution_count": 12,
   "metadata": {},
   "outputs": [
    {
     "name": "stdout",
     "output_type": "stream",
     "text": [
      "[[(0, 1), (1, 1), (2, 1), (3, 1), (4, 1), (5, 1), (6, 1), (7, 1)]]\n"
     ]
    }
   ],
   "source": [
    "# Create Dictionary\n",
    "id2word = corpora.Dictionary(data_lemmatized)\n",
    "\n",
    "# Create Corpus\n",
    "texts = data_lemmatized\n",
    "\n",
    "# Term Document Frequency\n",
    "corpus = [id2word.doc2bow(text) for text in texts]\n",
    "\n",
    "# View\n",
    "print(corpus[:1])"
   ]
  },
  {
   "cell_type": "code",
   "execution_count": 13,
   "metadata": {},
   "outputs": [],
   "source": [
    "from gensim.models import CoherenceModel\n",
    "def calculate_coherencescore_for_topics(corpus_vect,dictionary,processed_docs,n=10):\n",
    "    score = []\n",
    "    for i in range(1,11):\n",
    "        ldamodel = gensim.models.ldamodel.LdaModel(corpus_vect, num_topics = i, id2word=dictionary, passes=25, random_state= 0)\n",
    "        # Compute Coherence Score\n",
    "        coherence_model_lda = CoherenceModel(model=ldamodel, texts=processed_docs, dictionary=dictionary, coherence='c_v')\n",
    "        coherence_lda = coherence_model_lda.get_coherence()\n",
    "        score.append(coherence_lda)\n",
    "    return score\n",
    "    \n",
    "score = calculate_coherencescore_for_topics(corpus,id2word,data_lemmatized)"
   ]
  },
  {
   "cell_type": "code",
   "execution_count": 14,
   "metadata": {},
   "outputs": [
    {
     "data": {
      "image/png": "[encoded data removed]",
      "text/plain": [
       "<Figure size 432x288 with 1 Axes>"
      ]
     },
     "metadata": {},
     "output_type": "display_data"
    }
   ],
   "source": [
    "import matplotlib.pyplot as plt\n",
    "import numpy as np\n",
    "\n",
    "\n",
    "plt.plot([1,2,3,4,5,6,7,8,9,10],score)\n",
    "plt.show()"
   ]
  },
  {
   "cell_type": "code",
   "execution_count": 19,
   "metadata": {},
   "outputs": [],
   "source": [
    "# Build LDA model\n",
    "lda_model = gensim.models.ldamodel.LdaModel(corpus=corpus,\n",
    "                                           id2word=id2word,\n",
    "                                           num_topics=4, \n",
    "                                           random_state=100,\n",
    "                                           update_every=1,\n",
    "                                           chunksize=100,\n",
    "                                           passes=10,\n",
    "                                           alpha='auto',\n",
    "                                           per_word_topics=True)"
   ]
  },
  {
   "cell_type": "code",
   "execution_count": 20,
   "metadata": {},
   "outputs": [
    {
     "name": "stderr",
     "output_type": "stream",
     "text": [
      "C:\\Users\\Darren\\Anaconda3\\lib\\site-packages\\pyLDAvis\\_prepare.py:257: FutureWarning: Sorting because non-concatenation axis is not aligned. A future version\n",
      "of pandas will change to not sort by default.\n",
      "\n",
      "To accept the future behavior, pass 'sort=True'.\n",
      "\n",
      "To retain the current behavior and silence the warning, pass sort=False\n",
      "\n",
      "  return pd.concat([default_term_info] + list(topic_dfs))\n"
     ]
    },
    {
     "data": {
      "text/html": [
       "\n",
       "<link rel=\"stylesheet\" type=\"text/css\" href=\"https://cdn.rawgit.com/bmabey/pyLDAvis/files/ldavis.v1.0.0.css\">\n",
       "\n",
       "\n",
       "<div id=\"ldavis_el88121481363023456284954911\"></div>\n",
       "<script type=\"text/javascript\">\n",
       "\n",
       "var ldavis_el88121481363023456284954911_data = {\"mdsDat\": {\"x\": [0.27047903100323256, -0.051598275969133155, -0.09774198868502587, -0.12113876634907363], \"y\": [-0.03462608696374443, 0.23991044088071445, -0.13349264771793645, -0.0717917061990336], \"topics\": [1, 2, 3, 4], \"cluster\": [1, 1, 1, 1], \"Freq\": [37.63785171508789, 22.26329803466797, 20.672332763671875, 19.426513671875]}, \"tinfo\": {\"Category\": [\"Default\", \"Default\", \"Default\", \"Default\", \"Default\", \"Default\", \"Default\", \"Default\", \"Default\", \"Default\", \"Default\", \"Default\", \"Default\", \"Default\", \"Default\", \"Default\", \"Default\", \"Default\", \"Default\", \"Default\", \"Default\", \"Default\", \"Default\", \"Default\", \"Default\", \"Default\", \"Default\", \"Default\", \"Default\", \"Default\", \"Topic1\", \"Topic1\", \"Topic1\", \"Topic1\", \"Topic1\", \"Topic1\", \"Topic1\", \"Topic1\", \"Topic1\", \"Topic1\", \"Topic1\", \"Topic1\", \"Topic1\", \"Topic1\", \"Topic1\", \"Topic1\", \"Topic1\", \"Topic1\", \"Topic1\", \"Topic1\", \"Topic1\", \"Topic1\", \"Topic1\", \"Topic1\", \"Topic1\", \"Topic1\", \"Topic1\", \"Topic1\", \"Topic1\", \"Topic1\", \"Topic1\", \"Topic1\", \"Topic1\", \"Topic1\", \"Topic1\", \"Topic2\", \"Topic2\", \"Topic2\", \"Topic2\", \"Topic2\", \"Topic2\", \"Topic2\", \"Topic2\", \"Topic2\", \"Topic2\", \"Topic2\", \"Topic2\", \"Topic2\", \"Topic2\", \"Topic2\", \"Topic2\", \"Topic2\", \"Topic2\", \"Topic2\", \"Topic2\", \"Topic2\", \"Topic2\", \"Topic2\", \"Topic2\", \"Topic2\", \"Topic2\", \"Topic2\", \"Topic2\", \"Topic2\", \"Topic2\", \"Topic2\", \"Topic2\", \"Topic2\", \"Topic2\", \"Topic3\", \"Topic3\", \"Topic3\", \"Topic3\", \"Topic3\", \"Topic3\", \"Topic3\", \"Topic3\", \"Topic3\", \"Topic3\", \"Topic3\", \"Topic3\", \"Topic3\", \"Topic3\", \"Topic3\", \"Topic3\", \"Topic3\", \"Topic3\", \"Topic3\", \"Topic3\", \"Topic3\", \"Topic3\", \"Topic3\", \"Topic3\", \"Topic3\", \"Topic3\", \"Topic3\", \"Topic3\", \"Topic3\", \"Topic3\", \"Topic3\", \"Topic4\", \"Topic4\", \"Topic4\", \"Topic4\", \"Topic4\", \"Topic4\", \"Topic4\", \"Topic4\", \"Topic4\", \"Topic4\", \"Topic4\", \"Topic4\", \"Topic4\", \"Topic4\", \"Topic4\", \"Topic4\", \"Topic4\", \"Topic4\", \"Topic4\", \"Topic4\", \"Topic4\", \"Topic4\", \"Topic4\", \"Topic4\", \"Topic4\", \"Topic4\", \"Topic4\", \"Topic4\", \"Topic4\", \"Topic4\", \"Topic4\", \"Topic4\"], \"Freq\": [80.0, 74.0, 40.0, 40.0, 62.0, 34.0, 58.0, 36.0, 32.0, 51.0, 50.0, 50.0, 84.0, 50.0, 47.0, 24.0, 43.0, 25.0, 41.0, 41.0, 41.0, 25.0, 24.0, 104.0, 22.0, 23.0, 23.0, 23.0, 36.0, 20.0, 74.04151916503906, 62.23686599731445, 57.8444709777832, 51.16793441772461, 50.31260681152344, 49.53272247314453, 46.72689437866211, 41.23390579223633, 40.45262908935547, 40.4740104675293, 43.19646072387695, 35.92466354370117, 34.627811431884766, 31.720014572143555, 30.70615577697754, 49.61404037475586, 29.466602325439453, 28.621185302734375, 26.26572608947754, 25.40668296813965, 24.44953727722168, 22.93233871459961, 19.86840057373047, 18.97865104675293, 19.608945846557617, 18.989009857177734, 19.0225772857666, 23.005481719970703, 16.896831512451172, 15.176220893859863, 47.489532470703125, 83.303955078125, 66.80890655517578, 22.793928146362305, 25.178300857543945, 39.772987365722656, 39.59340286254883, 36.0548210144043, 24.719369888305664, 23.794912338256836, 22.502300262451172, 22.45058822631836, 22.572416305541992, 19.391386032104492, 18.70904541015625, 17.96021270751953, 16.874805450439453, 15.878512382507324, 12.986153602600098, 12.446744918823242, 11.839895248413086, 11.710637092590332, 9.957958221435547, 9.48504638671875, 9.014914512634277, 9.297293663024902, 8.70613956451416, 9.087087631225586, 8.84982967376709, 8.797416687011719, 8.518665313720703, 7.462161064147949, 6.822531223297119, 6.97396183013916, 6.6369524002075195, 6.834115028381348, 15.590546607971191, 13.01086139678955, 11.797717094421387, 79.82575988769531, 34.2117805480957, 24.539953231811523, 21.5771427154541, 19.519746780395508, 17.0179443359375, 13.164146423339844, 12.902073860168457, 12.093408584594727, 12.61231517791748, 10.883208274841309, 11.5083589553833, 10.562520980834961, 9.926833152770996, 9.924827575683594, 9.524595260620117, 9.706892967224121, 9.474464416503906, 9.201088905334473, 8.885112762451172, 8.739322662353516, 8.896832466125488, 8.094062805175781, 8.088462829589844, 7.394905090332031, 6.657374382019043, 6.48542594909668, 6.525930881500244, 6.468430042266846, 7.1872758865356445, 16.894948959350586, 32.251731872558594, 24.29945182800293, 19.691926956176758, 18.869672775268555, 16.901954650878906, 17.691240310668945, 14.515253067016602, 12.293956756591797, 11.676541328430176, 12.684114456176758, 11.997587203979492, 11.617972373962402, 11.400636672973633, 12.271203994750977, 11.13303279876709, 10.910706520080566, 9.902992248535156, 9.227212905883789, 8.619283676147461, 8.439504623413086, 8.955873489379883, 8.071328163146973, 7.931422233581543, 8.447015762329102, 7.053999423980713, 7.268753528594971, 6.879063129425049, 6.651115894317627, 6.842581272125244, 5.801417350769043, 6.924286365509033, 9.515817642211914], \"Term\": [\"think\", \"go\", \"could\", \"drug\", \"home\", \"adoption\", \"need\", \"case\", \"find\", \"help\", \"spca\", \"come\", \"animal\", \"get\", \"time\", \"would\", \"cat\", \"close\", \"today\", \"shelter\", \"pet\", \"know\", \"key\", \"dog\", \"open\", \"treatment\", \"keep\", \"make\", \"be\", \"give\", \"go\", \"home\", \"need\", \"help\", \"spca\", \"come\", \"time\", \"today\", \"shelter\", \"pet\", \"cat\", \"be\", \"say\", \"foster\", \"still\", \"get\", \"food\", \"s\", \"work\", \"local\", \"take\", \"start\", \"family\", \"new\", \"can\", \"reduce\", \"check\", \"school\", \"parent\", \"girl\", \"adopt\", \"dog\", \"animal\", \"call\", \"look\", \"could\", \"drug\", \"case\", \"know\", \"key\", \"treatment\", \"make\", \"keep\", \"try\", \"month\", \"people\", \"thank\", \"week\", \"want\", \"friend\", \"old\", \"care\", \"death\", \"year\", \"also\", \"photo\", \"happy\", \"appointment\", \"live\", \"site\", \"die\", \"ever\", \"provide\", \"eye\", \"resident\", \"enter\", \"see\", \"look\", \"dog\", \"think\", \"adoption\", \"close\", \"open\", \"covid\", \"ee\", \"stay\", \"little\", \"service\", \"hear\", \"owner\", \"name\", \"even\", \"way\", \"always\", \"support\", \"pick\", \"first\", \"leave\", \"volunteer\", \"article\", \"cute\", \"sign\", \"money\", \"cure\", \"spread\", \"information\", \"offer\", \"sale\", \"stop\", \"animal\", \"find\", \"would\", \"give\", \"love\", \"amp\", \"use\", \"much\", \"send\", \"ask\", \"een\", \"may\", \"due\", \"last\", \"contact\", \"pandemic\", \"good\", \"have\", \"fly\", \"flight\", \"post\", \"morning\", \"response\", \"community\", \"update\", \"measure\", \"thing\", \"video\", \"facility\", \"already\", \"really\", \"australian\", \"dog\"], \"Total\": [80.0, 74.0, 40.0, 40.0, 62.0, 34.0, 58.0, 36.0, 32.0, 51.0, 50.0, 50.0, 84.0, 50.0, 47.0, 24.0, 43.0, 25.0, 41.0, 41.0, 41.0, 25.0, 24.0, 104.0, 22.0, 23.0, 23.0, 23.0, 36.0, 20.0, 74.6291275024414, 62.80912780761719, 58.41841506958008, 51.743751525878906, 50.88845443725586, 50.12640380859375, 47.30195236206055, 41.813682556152344, 41.027191162109375, 41.05183410644531, 43.837345123291016, 36.512203216552734, 35.20707702636719, 32.29575729370117, 31.29085350036621, 50.60957717895508, 30.0596866607666, 29.207372665405273, 26.852161407470703, 25.97528839111328, 25.028532028198242, 23.514108657836914, 20.442337036132812, 19.551191329956055, 20.209728240966797, 19.59781837463379, 19.643627166748047, 23.787567138671875, 17.488311767578125, 15.797332763671875, 52.82585144042969, 104.82064056396484, 84.08058166503906, 26.693958282470703, 38.569725036621094, 40.409671783447266, 40.30144119262695, 36.73963928222656, 25.3533992767334, 24.41452980041504, 23.125761032104492, 23.103853225708008, 23.241025924682617, 20.047527313232422, 19.351659774780273, 18.609336853027344, 17.524734497070312, 16.51856803894043, 13.616771697998047, 13.077713012695312, 12.462489128112793, 12.365978240966797, 10.59304141998291, 10.123035430908203, 9.640605926513672, 9.951395034790039, 9.331120491027832, 9.74047565460205, 9.486515998840332, 9.43604850769043, 9.210371017456055, 8.09610652923584, 7.448918342590332, 7.615418434143066, 7.259982585906982, 7.560836315155029, 30.570064544677734, 38.569725036621094, 104.82064056396484, 80.50270080566406, 34.83992004394531, 25.175098419189453, 22.2183780670166, 20.16168212890625, 17.664884567260742, 13.813739776611328, 13.543785095214844, 12.736152648925781, 13.31750202178955, 11.521422386169434, 12.187396049499512, 11.20570182800293, 10.565231323242188, 10.56572151184082, 10.154123306274414, 10.356237411499023, 10.135676383972168, 9.845552444458008, 9.507730484008789, 9.384449005126953, 9.571680068969727, 8.724365234375, 8.730609893798828, 8.044708251953125, 7.274013996124268, 7.110044479370117, 7.158118724822998, 7.097588062286377, 7.889010906219482, 84.08058166503906, 32.89809799194336, 24.955318450927734, 20.345905303955078, 19.56268882751465, 17.587873458862305, 18.44170570373535, 15.192666053771973, 12.939552307128906, 12.319219589233398, 13.39396858215332, 12.673221588134766, 12.276308059692383, 12.06624698638916, 12.991128921508789, 11.79819107055664, 11.56957721710205, 10.595535278320312, 9.894367218017578, 9.268360137939453, 9.085737228393555, 9.66079044342041, 8.711507797241211, 8.578990936279297, 9.153531074523926, 7.69732141494751, 7.943728446960449, 7.53486442565918, 7.286619186401367, 7.504914283752441, 6.467965126037598, 7.736417770385742, 104.82064056396484], \"loglift\": [30.0, 29.0, 28.0, 27.0, 26.0, 25.0, 24.0, 23.0, 22.0, 21.0, 20.0, 19.0, 18.0, 17.0, 16.0, 15.0, 14.0, 13.0, 12.0, 11.0, 10.0, 9.0, 8.0, 7.0, 6.0, 5.0, 4.0, 3.0, 2.0, 1.0, 0.9692999720573425, 0.9679999947547913, 0.9672999978065491, 0.9660000205039978, 0.9657999873161316, 0.9652000069618225, 0.964900016784668, 0.9631999731063843, 0.963100016117096, 0.9629999995231628, 0.9624000191688538, 0.9609000086784363, 0.9606000185012817, 0.9592000246047974, 0.958299994468689, 0.9573000073432922, 0.9571999907493591, 0.9569000005722046, 0.9550999999046326, 0.9549999833106995, 0.9538000226020813, 0.9520999789237976, 0.9487000107765198, 0.9473999738693237, 0.9470000267028809, 0.9455999732017517, 0.9449999928474426, 0.9437000155448914, 0.942799985408783, 0.9369999766349792, 0.8707000017166138, 0.7473999857902527, 0.7472000122070312, 0.8191999793052673, 0.5507000088691711, 1.486299991607666, 1.4845000505447388, 1.4833999872207642, 1.4768999814987183, 1.4765000343322754, 1.4749000072479248, 1.4735000133514404, 1.4730000495910645, 1.468999981880188, 1.468500018119812, 1.4666999578475952, 1.464400053024292, 1.4627000093460083, 1.454800009727478, 1.4528000354766846, 1.4509999752044678, 1.4478000402450562, 1.4404000043869019, 1.4371000528335571, 1.4350999593734741, 1.4342000484466553, 1.4328999519348145, 1.432800054550171, 1.432800054550171, 1.4321999549865723, 1.4242000579833984, 1.420699954032898, 1.4143999814987183, 1.414199948310852, 1.412500023841858, 1.4012000560760498, 0.8288999795913696, 0.4154999852180481, -0.6820999979972839, 1.5678999423980713, 1.5582000017166138, 1.5507999658584595, 1.5470999479293823, 1.5440000295639038, 1.5391000509262085, 1.5282000303268433, 1.5277999639511108, 1.5246000289916992, 1.5219999551773071, 1.5194000005722046, 1.5190000534057617, 1.517300009727478, 1.5140000581741333, 1.513800024986267, 1.5124000310897827, 1.5116000175476074, 1.5089000463485718, 1.5087000131607056, 1.5085999965667725, 1.5052000284194946, 1.5032999515533447, 1.5013999938964844, 1.5, 1.4922000169754028, 1.4878000020980835, 1.4844000339508057, 1.4838999509811401, 1.4836000204086304, 1.483199954032898, -0.0284000001847744, 1.6187000274658203, 1.611899971961975, 1.6059000492095947, 1.6024999618530273, 1.5987999439239502, 1.597000002861023, 1.592900037765503, 1.587399959564209, 1.5850000381469727, 1.5841000080108643, 1.5836999416351318, 1.583400011062622, 1.5817999839782715, 1.5815000534057617, 1.5805000066757202, 1.5799000263214111, 1.5708999633789062, 1.5686999559402466, 1.5658999681472778, 1.5647000074386597, 1.5628000497817993, 1.5621999502182007, 1.559999942779541, 1.5582000017166138, 1.551300048828125, 1.5497000217437744, 1.5475000143051147, 1.5472999811172485, 1.5461000204086304, 1.5298000574111938, 1.5276000499725342, -0.7608000040054321], \"logprob\": [30.0, 29.0, 28.0, 27.0, 26.0, 25.0, 24.0, 23.0, 22.0, 21.0, 20.0, 19.0, 18.0, 17.0, 16.0, 15.0, 14.0, 13.0, 12.0, 11.0, 10.0, 9.0, 8.0, 7.0, 6.0, 5.0, 4.0, 3.0, 2.0, 1.0, -3.555999994277954, -3.7297000885009766, -3.8029000759124756, -3.925600051879883, -3.9423999786376953, -3.9579999446868896, -4.016300201416016, -4.14139986038208, -4.1605000495910645, -4.159999847412109, -4.094900131225586, -4.279200077056885, -4.315999984741211, -4.40369987487793, -4.436200141906738, -3.956399917602539, -4.477399826049805, -4.506499767303467, -4.592400074005127, -4.625699996948242, -4.664100170135498, -4.728099822998047, -4.871500015258789, -4.917399883270264, -4.884699821472168, -4.916800022125244, -4.914999961853027, -4.724899768829346, -5.0335001945495605, -5.140900135040283, -4.000199794769287, -3.438199996948242, -3.658799886703491, -4.7342000007629395, -4.634699821472168, -3.652400016784668, -3.656899929046631, -3.7506000995635986, -4.127999782562256, -4.166100025177002, -4.2220001220703125, -4.224299907684326, -4.218900203704834, -4.370800018310547, -4.406599998474121, -4.447400093078613, -4.509799957275391, -4.5706000328063965, -4.771699905395508, -4.8140997886657715, -4.864099979400635, -4.875100135803223, -5.037199974060059, -5.085899829864502, -5.13670015335083, -5.105899810791016, -5.171599864959717, -5.128699779510498, -5.155200004577637, -5.161099910736084, -5.193299770355225, -5.325799942016602, -5.41540002822876, -5.393400192260742, -5.44290018081665, -5.413700103759766, -4.588900089263916, -4.769800186157227, -4.867700099945068, -2.8815999031066895, -3.7288999557495117, -4.061100006103516, -4.189799785614014, -4.289999961853027, -4.427199840545654, -4.684000015258789, -4.704100131988525, -4.768799781799316, -4.726799964904785, -4.874199867248535, -4.818399906158447, -4.904099941253662, -4.96619987487793, -4.966400146484375, -5.007599830627441, -4.98859977722168, -5.012899875640869, -5.042099952697754, -5.077099800109863, -5.093599796295166, -5.075799942016602, -5.170300006866455, -5.171000003814697, -5.260700225830078, -5.365699768066406, -5.391900062561035, -5.385700225830078, -5.394499778747559, -5.289100170135498, -4.4344000816345215, -3.7256999015808105, -4.008800029754639, -4.219099998474121, -4.26170015335083, -4.3719000816345215, -4.326200008392334, -4.524099826812744, -4.690199851989746, -4.741700172424316, -4.658899784088135, -4.714600086212158, -4.746699810028076, -4.765600204467773, -4.691999912261963, -4.789400100708008, -4.809599876403809, -4.906499862670898, -4.977099895477295, -5.045300006866455, -5.066400051116943, -5.006999969482422, -5.111000061035156, -5.128499984741211, -5.065499782562256, -5.245699882507324, -5.215700149536133, -5.2708001136779785, -5.304500102996826, -5.276100158691406, -5.441199779510498, -5.2642998695373535, -4.946300029754639]}, \"token.table\": {\"Topic\": [1, 2, 3, 4, 2, 3, 4, 1, 3, 2, 3, 4, 4, 1, 1, 3, 1, 2, 2, 1, 1, 3, 1, 4, 4, 2, 3, 3, 3, 2, 2, 1, 2, 4, 2, 4, 3, 4, 2, 3, 2, 2, 4, 1, 4, 3, 4, 4, 1, 1, 2, 1, 2, 1, 4, 1, 4, 2, 4, 3, 1, 1, 3, 2, 2, 2, 4, 3, 3, 2, 1, 1, 2, 4, 2, 4, 4, 3, 2, 4, 4, 3, 1, 1, 3, 2, 3, 3, 4, 1, 2, 1, 2, 3, 4, 2, 4, 1, 2, 4, 1, 3, 1, 1, 1, 2, 4, 3, 1, 3, 2, 1, 3, 1, 3, 1, 3, 3, 1, 2, 4, 3, 1, 1, 2, 2, 4, 4, 4, 3, 2, 3, 2, 1, 4, 2], \"Freq\": [0.8897159099578857, 0.09465062618255615, 0.9758920073509216, 0.9327221512794495, 0.9335512518882751, 0.9464569091796875, 0.9665750861167908, 0.7968546152114868, 0.20218698680400848, 0.9239795207977295, 0.9590333700180054, 0.974087655544281, 0.9048115015029907, 0.9859717488288879, 0.861618161201477, 0.1498466432094574, 0.9896224141120911, 0.9704044461250305, 0.9798681139945984, 0.9808987975120544, 0.9672347903251648, 0.9930447936058044, 0.9974783062934875, 0.9325106143951416, 0.9237072467803955, 0.9898620247840881, 0.9919807314872742, 0.8701372146606445, 0.9402738213539124, 0.9440159201622009, 0.977159321308136, 0.7918287515640259, 0.11448127031326294, 0.09540105611085892, 0.9925203323364258, 0.9774925708770752, 0.962361216545105, 0.9705861210823059, 0.9258235096931458, 0.9816431403160095, 0.8646131157875061, 0.9191878437995911, 0.9606649875640869, 0.9783617258071899, 0.9727005958557129, 0.8879525661468506, 0.9710455536842346, 0.9096084237098694, 0.9647472500801086, 0.9908422231674194, 0.9175916314125061, 0.9879552721977234, 0.019759105518460274, 0.949527382850647, 0.982998788356781, 0.9915699362754822, 0.9507694244384766, 0.9645143747329712, 0.943793773651123, 0.9761590361595154, 0.9856262803077698, 0.9871176481246948, 0.8438766002655029, 0.9896292686462402, 0.9830211997032166, 0.9860610961914062, 0.9116339087486267, 0.9141183495521545, 0.9598498344421387, 0.9487149715423584, 0.9624532461166382, 0.6481767892837524, 0.3370519280433655, 0.9712366461753845, 0.9522221088409424, 0.9468784332275391, 0.9094072580337524, 0.9163162708282471, 0.9818279147148132, 0.93160080909729, 0.9873184561729431, 0.9846237897872925, 0.9928376078605652, 0.9718077778816223, 0.977910578250885, 0.9628894925117493, 0.9901713132858276, 0.9547432065010071, 0.9323463439941406, 0.9720778465270996, 0.9672563672065735, 0.9743779301643372, 0.9043958187103271, 0.9656016826629639, 0.8805009126663208, 0.9397337436676025, 0.9276487827301025, 0.9694956541061401, 0.9641896486282349, 0.9183255434036255, 0.992900013923645, 0.8453575968742371, 0.994118332862854, 0.9668916463851929, 0.4906761050224304, 0.5233878493309021, 0.9273891448974609, 0.9421997666358948, 0.9749631881713867, 0.9169721603393555, 0.9537890553474426, 0.9825411438941956, 0.9623297452926636, 0.9781361818313599, 0.9410920143127441, 0.9907048344612122, 0.8873102068901062, 0.984821617603302, 0.9589056372642517, 0.970057487487793, 0.8811982870101929, 0.9937554597854614, 0.99361652135849, 0.9805402755737305, 0.9945618510246277, 0.9477478265762329, 0.8739796876907349, 0.9760485291481018, 0.9290147423744202, 0.9465981125831604, 0.954704999923706, 0.946500837802887, 0.9686069488525391, 0.9682646989822388, 0.9617188572883606, 0.8890613913536072], \"Term\": [\"adopt\", \"adopt\", \"adoption\", \"already\", \"also\", \"always\", \"amp\", \"animal\", \"animal\", \"appointment\", \"article\", \"ask\", \"australian\", \"be\", \"call\", \"call\", \"can\", \"care\", \"case\", \"cat\", \"check\", \"close\", \"come\", \"community\", \"contact\", \"could\", \"covid\", \"cure\", \"cute\", \"death\", \"die\", \"dog\", \"dog\", \"dog\", \"drug\", \"due\", \"ee\", \"een\", \"enter\", \"even\", \"ever\", \"eye\", \"facility\", \"family\", \"find\", \"first\", \"flight\", \"fly\", \"food\", \"foster\", \"friend\", \"get\", \"get\", \"girl\", \"give\", \"go\", \"good\", \"happy\", \"have\", \"hear\", \"help\", \"home\", \"information\", \"keep\", \"key\", \"know\", \"last\", \"leave\", \"little\", \"live\", \"local\", \"look\", \"look\", \"love\", \"make\", \"may\", \"measure\", \"money\", \"month\", \"morning\", \"much\", \"name\", \"need\", \"new\", \"offer\", \"old\", \"open\", \"owner\", \"pandemic\", \"parent\", \"people\", \"pet\", \"photo\", \"pick\", \"post\", \"provide\", \"really\", \"reduce\", \"resident\", \"response\", \"s\", \"sale\", \"say\", \"school\", \"see\", \"see\", \"send\", \"service\", \"shelter\", \"sign\", \"site\", \"spca\", \"spread\", \"start\", \"stay\", \"still\", \"stop\", \"support\", \"take\", \"thank\", \"thing\", \"think\", \"time\", \"today\", \"treatment\", \"try\", \"update\", \"use\", \"video\", \"volunteer\", \"want\", \"way\", \"week\", \"work\", \"would\", \"year\"]}, \"R\": 30, \"lambda.step\": 0.01, \"plot.opts\": {\"xlab\": \"PC1\", \"ylab\": \"PC2\"}, \"topic.order\": [3, 1, 2, 4]};\n",
       "\n",
       "function LDAvis_load_lib(url, callback){\n",
       "  var s = document.createElement('script');\n",
       "  s.src = url;\n",
       "  s.async = true;\n",
       "  s.onreadystatechange = s.onload = callback;\n",
       "  s.onerror = function(){console.warn(\"failed to load library \" + url);};\n",
       "  document.getElementsByTagName(\"head\")[0].appendChild(s);\n",
       "}\n",
       "\n",
       "if(typeof(LDAvis) !== \"undefined\"){\n",
       "   // already loaded: just create the visualization\n",
       "   !function(LDAvis){\n",
       "       new LDAvis(\"#\" + \"ldavis_el88121481363023456284954911\", ldavis_el88121481363023456284954911_data);\n",
       "   }(LDAvis);\n",
       "}else if(typeof define === \"function\" && define.amd){\n",
       "   // require.js is available: use it to load d3/LDAvis\n",
       "   require.config({paths: {d3: \"https://cdnjs.cloudflare.com/ajax/libs/d3/3.5.5/d3.min\"}});\n",
       "   require([\"d3\"], function(d3){\n",
       "      window.d3 = d3;\n",
       "      LDAvis_load_lib(\"https://cdn.rawgit.com/bmabey/pyLDAvis/files/ldavis.v1.0.0.js\", function(){\n",
       "        new LDAvis(\"#\" + \"ldavis_el88121481363023456284954911\", ldavis_el88121481363023456284954911_data);\n",
       "      });\n",
       "    });\n",
       "}else{\n",
       "    // require.js not available: dynamically load d3 & LDAvis\n",
       "    LDAvis_load_lib(\"https://cdnjs.cloudflare.com/ajax/libs/d3/3.5.5/d3.min.js\", function(){\n",
       "         LDAvis_load_lib(\"https://cdn.rawgit.com/bmabey/pyLDAvis/files/ldavis.v1.0.0.js\", function(){\n",
       "                 new LDAvis(\"#\" + \"ldavis_el88121481363023456284954911\", ldavis_el88121481363023456284954911_data);\n",
       "            })\n",
       "         });\n",
       "}\n",
       "</script>"
      ],
      "text/plain": [
       "PreparedData(topic_coordinates=              x         y  topics  cluster       Freq\n",
       "topic                                                \n",
       "2      0.270479 -0.034626       1        1  37.637852\n",
       "0     -0.051598  0.239910       2        1  22.263298\n",
       "1     -0.097742 -0.133493       3        1  20.672333\n",
       "3     -0.121139 -0.071792       4        1  19.426514, topic_info=     Category        Freq        Term       Total  loglift  logprob\n",
       "term                                                               \n",
       "220   Default   80.000000       think   80.000000  30.0000  30.0000\n",
       "34    Default   74.000000          go   74.000000  29.0000  29.0000\n",
       "413   Default   40.000000       could   40.000000  28.0000  28.0000\n",
       "1611  Default   40.000000        drug   40.000000  27.0000  27.0000\n",
       "69    Default   62.000000        home   62.000000  26.0000  26.0000\n",
       "51    Default   34.000000    adoption   34.000000  25.0000  25.0000\n",
       "3     Default   58.000000        need   58.000000  24.0000  24.0000\n",
       "568   Default   36.000000        case   36.000000  23.0000  23.0000\n",
       "27    Default   32.000000        find   32.000000  22.0000  22.0000\n",
       "19    Default   51.000000        help   51.000000  21.0000  21.0000\n",
       "66    Default   50.000000        spca   50.000000  20.0000  20.0000\n",
       "46    Default   50.000000        come   50.000000  19.0000  19.0000\n",
       "0     Default   84.000000      animal   84.000000  18.0000  18.0000\n",
       "18    Default   50.000000         get   50.000000  17.0000  17.0000\n",
       "93    Default   47.000000        time   47.000000  16.0000  16.0000\n",
       "143   Default   24.000000       would   24.000000  15.0000  15.0000\n",
       "10    Default   43.000000         cat   43.000000  14.0000  14.0000\n",
       "349   Default   25.000000       close   25.000000  13.0000  13.0000\n",
       "295   Default   41.000000       today   41.000000  12.0000  12.0000\n",
       "381   Default   41.000000     shelter   41.000000  11.0000  11.0000\n",
       "5     Default   41.000000         pet   41.000000  10.0000  10.0000\n",
       "170   Default   25.000000        know   25.000000   9.0000   9.0000\n",
       "422   Default   24.000000         key   24.000000   8.0000   8.0000\n",
       "58    Default  104.000000         dog  104.000000   7.0000   7.0000\n",
       "327   Default   22.000000        open   22.000000   6.0000   6.0000\n",
       "43    Default   23.000000   treatment   23.000000   5.0000   5.0000\n",
       "169   Default   23.000000        keep   23.000000   4.0000   4.0000\n",
       "172   Default   23.000000        make   23.000000   3.0000   3.0000\n",
       "52    Default   36.000000          be   36.000000   2.0000   2.0000\n",
       "112   Default   20.000000        give   20.000000   1.0000   1.0000\n",
       "...       ...         ...         ...         ...      ...      ...\n",
       "112    Topic4   19.691927        give   20.345905   1.6059  -4.2191\n",
       "117    Topic4   18.869673        love   19.562689   1.6025  -4.2617\n",
       "139    Topic4   16.901955         amp   17.587873   1.5988  -4.3719\n",
       "76     Topic4   17.691240         use   18.441706   1.5970  -4.3262\n",
       "248    Topic4   14.515253        much   15.192666   1.5929  -4.5241\n",
       "573    Topic4   12.293957        send   12.939552   1.5874  -4.6902\n",
       "16     Topic4   11.676541         ask   12.319220   1.5850  -4.7417\n",
       "941    Topic4   12.684114         een   13.393969   1.5841  -4.6589\n",
       "189    Topic4   11.997587         may   12.673222   1.5837  -4.7146\n",
       "304    Topic4   11.617972         due   12.276308   1.5834  -4.7467\n",
       "276    Topic4   11.400637        last   12.066247   1.5818  -4.7656\n",
       "1443   Topic4   12.271204     contact   12.991129   1.5815  -4.6920\n",
       "881    Topic4   11.133033    pandemic   11.798191   1.5805  -4.7894\n",
       "201    Topic4   10.910707        good   11.569577   1.5799  -4.8096\n",
       "517    Topic4    9.902992        have   10.595535   1.5709  -4.9065\n",
       "1499   Topic4    9.227213         fly    9.894367   1.5687  -4.9771\n",
       "1498   Topic4    8.619284      flight    9.268360   1.5659  -5.0453\n",
       "181    Topic4    8.439505        post    9.085737   1.5647  -5.0664\n",
       "193    Topic4    8.955873     morning    9.660790   1.5628  -5.0070\n",
       "625    Topic4    8.071328    response    8.711508   1.5622  -5.1110\n",
       "141    Topic4    7.931422   community    8.578991   1.5600  -5.1285\n",
       "519    Topic4    8.447016      update    9.153531   1.5582  -5.0655\n",
       "1501   Topic4    7.053999     measure    7.697321   1.5513  -5.2457\n",
       "307    Topic4    7.268754       thing    7.943728   1.5497  -5.2157\n",
       "685    Topic4    6.879063       video    7.534864   1.5475  -5.2708\n",
       "645    Topic4    6.651116    facility    7.286619   1.5473  -5.3045\n",
       "714    Topic4    6.842581     already    7.504914   1.5461  -5.2761\n",
       "55     Topic4    5.801417      really    6.467965   1.5298  -5.4412\n",
       "902    Topic4    6.924286  australian    7.736418   1.5276  -5.2643\n",
       "58     Topic4    9.515818         dog  104.820641  -0.7608  -4.9463\n",
       "\n",
       "[162 rows x 6 columns], token_table=      Topic      Freq         Term\n",
       "term                              \n",
       "50        1  0.889716        adopt\n",
       "50        2  0.094651        adopt\n",
       "51        3  0.975892     adoption\n",
       "714       4  0.932722      already\n",
       "165       2  0.933551         also\n",
       "224       3  0.946457       always\n",
       "139       4  0.966575          amp\n",
       "0         1  0.796855       animal\n",
       "0         3  0.202187       animal\n",
       "182       2  0.923980  appointment\n",
       "1293      3  0.959033      article\n",
       "16        4  0.974088          ask\n",
       "902       4  0.904812   australian\n",
       "52        1  0.985972           be\n",
       "23        1  0.861618         call\n",
       "23        3  0.149847         call\n",
       "77        1  0.989622          can\n",
       "436       2  0.970404         care\n",
       "568       2  0.979868         case\n",
       "10        1  0.980899          cat\n",
       "778       1  0.967235        check\n",
       "349       3  0.993045        close\n",
       "46        1  0.997478         come\n",
       "141       4  0.932511    community\n",
       "1443      4  0.923707      contact\n",
       "413       2  0.989862        could\n",
       "1         3  0.991981        covid\n",
       "1671      3  0.870137         cure\n",
       "366       3  0.940274         cute\n",
       "1688      2  0.944016        death\n",
       "...     ...       ...          ...\n",
       "573       4  0.927389         send\n",
       "387       3  0.942200      service\n",
       "381       1  0.974963      shelter\n",
       "481       3  0.916972         sign\n",
       "559       2  0.953789         site\n",
       "66        1  0.982541         spca\n",
       "6         3  0.962330       spread\n",
       "383       1  0.978136        start\n",
       "332       3  0.941092         stay\n",
       "194       1  0.990705        still\n",
       "401       3  0.887310         stop\n",
       "270       3  0.984822      support\n",
       "42        1  0.958906         take\n",
       "396       2  0.970057        thank\n",
       "307       4  0.881198        thing\n",
       "220       3  0.993755        think\n",
       "93        1  0.993617         time\n",
       "295       1  0.980540        today\n",
       "43        2  0.994562    treatment\n",
       "31        2  0.947748          try\n",
       "519       4  0.873980       update\n",
       "76        4  0.976049          use\n",
       "685       4  0.929015        video\n",
       "464       3  0.946598    volunteer\n",
       "159       2  0.954705         want\n",
       "94        3  0.946501          way\n",
       "272       2  0.968607         week\n",
       "108       1  0.968265         work\n",
       "143       4  0.961719        would\n",
       "318       2  0.889061         year\n",
       "\n",
       "[136 rows x 3 columns], R=30, lambda_step=0.01, plot_opts={'xlab': 'PC1', 'ylab': 'PC2'}, topic_order=[3, 1, 2, 4])"
      ]
     },
     "execution_count": 20,
     "metadata": {},
     "output_type": "execute_result"
    }
   ],
   "source": [
    "pyLDAvis.enable_notebook()\n",
    "vis = pyLDAvis.gensim.prepare(lda_model, corpus, id2word)\n",
    "vis"
   ]
  },
  {
   "cell_type": "code",
   "execution_count": null,
   "metadata": {},
   "outputs": [],
   "source": []
  },
  {
   "cell_type": "code",
   "execution_count": null,
   "metadata": {},
   "outputs": [],
   "source": []
  }
 ],
 "metadata": {
  "kernelspec": {
   "display_name": "Python 3",
   "language": "python",
   "name": "python3"
  },
  "language_info": {
   "codemirror_mode": {
    "name": "ipython",
    "version": 3
   },
   "file_extension": ".py",
   "mimetype": "text/x-python",
   "name": "python",
   "nbconvert_exporter": "python",
   "pygments_lexer": "ipython3",
   "version": "3.6.5"
  }
 },
 "nbformat": 4,
 "nbformat_minor": 2
}
